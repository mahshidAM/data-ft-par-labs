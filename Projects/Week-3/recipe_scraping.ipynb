{
 "cells": [
  {
   "cell_type": "code",
   "execution_count": 1,
   "metadata": {},
   "outputs": [],
   "source": [
    "import pandas as pd\n",
    "import re\n",
    "from scraper import *\n",
    "from functions import *"
   ]
  },
  {
   "cell_type": "code",
   "execution_count": null,
   "metadata": {
    "scrolled": true
   },
   "outputs": [
    {
     "name": "stdout",
     "output_type": "stream",
     "text": [
      "Which category you want to choose? \u001b[01m\u001b[94m aperitif, bases, drink, dessert, starter, main or all\u001b[0m.           Select one or more categories(sepretated by \",\" )\n",
      "\n",
      "\n"
     ]
    },
    {
     "name": "stdin",
     "output_type": "stream",
     "text": [
      " all\n"
     ]
    },
    {
     "name": "stdout",
     "output_type": "stream",
     "text": [
      "Collect URLs https://www.cuisineaz.com/categories/aperitif-cat48640\n",
      "Collect URLs https://www.cuisineaz.com/categories/bases-cat48653\n",
      "Collect URLs https://www.cuisineaz.com/categories/boissons-cat48664\n",
      "Collect URLs https://www.cuisineaz.com/categories/desserts-cat48681\n",
      "Collect URLs https://www.cuisineaz.com/categories/entrees-cat48785\n",
      "Collect URLs https://www.cuisineaz.com/categories/plats-cat48816\n",
      "https://www.cuisineaz.com/recettes/baguette-aux-champignons-epinards-et-boursin-echalote-ciboulette-110691.aspx  loading ...\n",
      "https://www.cuisineaz.com/recettes/pull-apart-bread-aux-courgettes-et-au-boursin-onctueux-ail-fines-herbes-110685.aspx  loading ...\n",
      "https://www.cuisineaz.com/recettes/cones-feuilletes-au-jambon-et-boursin-echalote-ciboulette-110475.aspx  loading ...\n",
      "https://www.cuisineaz.com/recettes/herisson-aperitif-96981.aspx  loading ...\n",
      "https://www.cuisineaz.com/recettes/mousse-d-avocats-aux-crevettes-14215.aspx  loading ...\n",
      "https://www.cuisineaz.com/recettes/mousse-de-thon-legere-62561.aspx  loading ...\n",
      "https://www.cuisineaz.com/recettes/feuilletes-aperitifs-au-chorizo-et-au-gruyere-56011.aspx  loading ...\n",
      "https://www.cuisineaz.com/recettes/tortilla-espagnole-simplissime-59771.aspx  loading ...\n",
      "https://www.cuisineaz.com/recettes/gougeres-au-thermomix-98531.aspx  loading ...\n",
      "https://www.cuisineaz.com/recettes/mousse-de-pois-chiches-hoummous-59042.aspx  loading ...\n",
      "https://www.cuisineaz.com/recettes/pop-corn-au-thermomix-106265.aspx  loading ...\n",
      "https://www.cuisineaz.com/recettes/feuilletes-aperitifs-au-fromage-53806.aspx  loading ...\n",
      "https://www.cuisineaz.com/recettes/mousse-de-concombre-88083.aspx  loading ...\n",
      "https://www.cuisineaz.com/recettes/mousse-d-avocats-11897.aspx  loading ...\n",
      "https://www.cuisineaz.com/recettes/mousse-de-carottes-epicee-67097.aspx  loading ...\n",
      "https://www.cuisineaz.com/recettes/salsa-mexicaine-59870.aspx  loading ...\n",
      "https://www.cuisineaz.com/recettes/mousse-d-asperge-aux-crevettes-en-verrine-66027.aspx  loading ...\n",
      "https://www.cuisineaz.com/recettes/hoops-au-chorizo-et-comte-pour-l-aperitif-98506.aspx  loading ...\n",
      "https://www.cuisineaz.com/recettes/mousse-de-saumon-au-siphon-81419.aspx  loading ...\n",
      "https://www.cuisineaz.com/recettes/petits-roules-aperitifs-a-la-saucisse-50227.aspx  loading ...\n",
      "https://www.cuisineaz.com/recettes/verrine-aux-asperges-et-st-moret-105055.aspx  loading ...\n",
      "https://www.cuisineaz.com/recettes/popcorn-au-caramel-90697.aspx  loading ...\n",
      "https://www.cuisineaz.com/recettes/hummus-et-pain-pita-maison-60790.aspx  loading ...\n",
      "https://www.cuisineaz.com/recettes/sauce-aperitive-au-chevre-44431.aspx  loading ...\n",
      "https://www.cuisineaz.com/recettes/pate-en-croute-alsacien-103409.aspx  loading ...\n",
      "https://www.cuisineaz.com/recettes/gougeres-sans-gluten-99520.aspx  loading ...\n",
      "https://www.cuisineaz.com/recettes/mousse-de-foie-de-veau-84963.aspx  loading ...\n",
      "https://www.cuisineaz.com/recettes/mousse-de-mayonnaise-a-la-ciboulette-73218.aspx  loading ...\n",
      "https://www.cuisineaz.com/recettes/espuma-d-asperges-vertes-65653.aspx  loading ...\n",
      "https://www.cuisineaz.com/recettes/verrine-d-asperges-et-jambon-cru-105027.aspx  loading ...\n",
      "https://www.cuisineaz.com/recettes/mousse-de-courgettes-au-pesto-verrines-salees-81409.aspx  loading ...\n",
      "https://www.cuisineaz.com/recettes/mousse-de-foies-de-volaille-10439.aspx  loading ...\n",
      "https://www.cuisineaz.com/recettes/mousse-de-brocolis-facile-4859.aspx  loading ...\n",
      "https://www.cuisineaz.com/recettes/rillettes-de-chorizo-au-thermomix-105479.aspx  loading ...\n",
      "https://www.cuisineaz.com/recettes/mousse-de-canard-au-cognac-65164.aspx  loading ...\n",
      "https://www.cuisineaz.com/recettes/mousse-de-betterave-rouge-et-radis-rose-62323.aspx  loading ...\n",
      "https://www.cuisineaz.com/recettes/mousse-de-brochet-3598.aspx  loading ...\n",
      "https://www.cuisineaz.com/recettes/aperitif-aux-feuilles-de-noyer-2520.aspx  loading ...\n",
      "https://www.cuisineaz.com/recettes/tapenade-verte-au-thermomix-106125.aspx  loading ...\n",
      "https://www.cuisineaz.com/recettes/verrine-avocat-thon-au-thermomix-105535.aspx  loading ...\n",
      "https://www.cuisineaz.com/recettes/mousse-de-truite-saumonee-104346.aspx  loading ...\n",
      "https://www.cuisineaz.com/recettes/torsades-aperitives-au-roquefort-societe-et-noix-98968.aspx  loading ...\n",
      "https://www.cuisineaz.com/recettes/mon-p-tit-beurre-de-radis-pour-des-aperos-qui-changent-97276.aspx  loading ...\n",
      "https://www.cuisineaz.com/recettes/mousse-de-mozzarella-tartare-de-tomate-perles-de-basilic-87921.aspx  loading ...\n",
      "https://www.cuisineaz.com/recettes/mousse-de-fromage-frais-aux-herbes-87151.aspx  loading ...\n",
      "https://www.cuisineaz.com/recettes/quiche-roquette-chorizo-chevre-frais-et-tomates-56132.aspx  loading ...\n",
      "https://www.cuisineaz.com/recettes/mousse-de-saumon-rose-17327.aspx  loading ...\n",
      "https://www.cuisineaz.com/recettes/poivronade-au-thermomix-106262.aspx  loading ...\n",
      "https://www.cuisineaz.com/recettes/trio-de-sauce-apero-et-ses-chips-96636.aspx  loading ...\n",
      "https://www.cuisineaz.com/recettes/mousse-de-saumon-au-thermomix-91892.aspx  loading ...\n",
      "https://www.cuisineaz.com/recettes/blinis-de-patate-douce-84096.aspx  loading ...\n",
      "https://www.cuisineaz.com/recettes/blinis-revisites-au-saumon-fume-au-sarrasin-83104.aspx  loading ...\n",
      "https://www.cuisineaz.com/recettes/mousse-aux-champignons-74927.aspx  loading ...\n",
      "https://www.cuisineaz.com/recettes/espuma-de-chorizo-sur-crackers-61151.aspx  loading ...\n",
      "https://www.cuisineaz.com/recettes/mousse-legere-concombre-crevettes-et-coriandre-52727.aspx  loading ...\n",
      "https://www.cuisineaz.com/recettes/beignets-au-fenouil-39991.aspx  loading ...\n",
      "https://www.cuisineaz.com/recettes/mousse-de-thon-a-la-gelee-madere-39507.aspx  loading ...\n",
      "https://www.cuisineaz.com/recettes/mousse-de-saumon-frais-a-congeler-35148.aspx  loading ...\n",
      "https://www.cuisineaz.com/recettes/mousse-de-poulet-35145.aspx  loading ...\n",
      "https://www.cuisineaz.com/recettes/mousse-d-avocat-a-la-creme-acidulee-et-au-saumon-fume-35125.aspx  loading ...\n",
      "https://www.cuisineaz.com/recettes/gougeres-aperitives-au-maroilles-1937.aspx  loading ...\n",
      "https://www.cuisineaz.com/recettes/tuiles-au-parmesan-au-thermomix-105532.aspx  loading ...\n",
      "https://www.cuisineaz.com/recettes/mini-cakes-au-saumon-et-au-boursin-104373.aspx  loading ...\n",
      "https://www.cuisineaz.com/recettes/panna-cotta-avocat-saumon-104292.aspx  loading ...\n",
      "https://www.cuisineaz.com/recettes/pingouins-pour-l-apero-102358.aspx  loading ...\n",
      "https://www.cuisineaz.com/recettes/gougeres-sans-lactose-99548.aspx  loading ...\n",
      "https://www.cuisineaz.com/recettes/mousse-de-betterave-facon-houmous-au-thermomix-91893.aspx  loading ...\n",
      "https://www.cuisineaz.com/recettes/mousse-de-sardine-au-carre-frais-85585.aspx  loading ...\n",
      "https://www.cuisineaz.com/recettes/fingers-aperitifs-au-comte-83662.aspx  loading ...\n",
      "https://www.cuisineaz.com/recettes/mousse-de-jambon-au-porto-68250.aspx  loading ...\n",
      "https://www.cuisineaz.com/recettes/mousse-d-avocat-au-thon-61565.aspx  loading ...\n",
      "https://www.cuisineaz.com/recettes/mousse-d-avocat-et-saumon-fume-59617.aspx  loading ...\n",
      "https://www.cuisineaz.com/recettes/mini-feuilletes-aperitif-a-la-cancoillotte-56339.aspx  loading ...\n",
      "https://www.cuisineaz.com/recettes/espumas-de-myrtilles-52470.aspx  loading ...\n",
      "https://www.cuisineaz.com/recettes/mousse-de-crabe-35131.aspx  loading ...\n",
      "https://www.cuisineaz.com/recettes/mousse-d-aubergine-legere-23438.aspx  loading ...\n",
      "https://www.cuisineaz.com/recettes/mousse-d-aubergines-4538.aspx  loading ...\n",
      "https://www.cuisineaz.com/recettes/mini-burgers-au-thermomix-106137.aspx  loading ...\n",
      "https://www.cuisineaz.com/recettes/cookies-au-chorizo-au-thermomix-105408.aspx  loading ...\n",
      "https://www.cuisineaz.com/recettes/brochette-de-tomate-cerise-et-jambon-cru-105262.aspx  loading ...\n",
      "https://www.cuisineaz.com/recettes/tapenade-d-asperges-vertes-105125.aspx  loading ...\n",
      "https://www.cuisineaz.com/recettes/verrine-asperges-et-surimi-105059.aspx  loading ...\n",
      "https://www.cuisineaz.com/recettes/gougeres-au-companion-101779.aspx  loading ...\n",
      "https://www.cuisineaz.com/recettes/legumes-aperitif-et-duo-de-tartinade-101074.aspx  loading ...\n",
      "https://www.cuisineaz.com/recettes/l-apero-improvise-de-nathalie-nguyen-96837.aspx  loading ...\n",
      "https://www.cuisineaz.com/recettes/mini-quiches-aperitives-sans-pate-aux-epinards-96243.aspx  loading ...\n",
      "https://www.cuisineaz.com/recettes/mousse-d-avocat-aux-crevettes-et-aux-oeufs-86108.aspx  loading ...\n",
      "https://www.cuisineaz.com/recettes/beignets-de-morue-portugais-82729.aspx  loading ...\n",
      "https://www.cuisineaz.com/recettes/blinis-de-carottes-au-cumin-78716.aspx  loading ...\n",
      "https://www.cuisineaz.com/recettes/gougeres-faciles-67602.aspx  loading ...\n",
      "https://www.cuisineaz.com/recettes/espumas-a-la-vanille-59702.aspx  loading ...\n",
      "https://www.cuisineaz.com/recettes/mousse-de-poivrons-59034.aspx  loading ...\n",
      "https://www.cuisineaz.com/recettes/espuma-de-chou-fleur-et-crumble-de-parmesan-58332.aspx  loading ...\n",
      "https://www.cuisineaz.com/recettes/banane-aperitif-56315.aspx  loading ...\n",
      "https://www.cuisineaz.com/recettes/mousse-de-betteraves-au-fromage-de-chevre-46778.aspx  loading ...\n",
      "https://www.cuisineaz.com/recettes/baguette-surprise-au-st-moret-29844.aspx  loading ...\n",
      "https://www.cuisineaz.com/recettes/beignets-de-morue-7593.aspx  loading ...\n",
      "https://www.cuisineaz.com/recettes/mousse-de-legumes-printaniers-6508.aspx  loading ...\n",
      "https://www.cuisineaz.com/recettes/mousse-de-surimi-4705.aspx  loading ...\n",
      "https://www.cuisineaz.com/recettes/mousse-aux-deux-saumons-en-gelee-3242.aspx  loading ...\n",
      "https://www.cuisineaz.com/recettes/blinis-au-caviar-870.aspx  loading ...\n",
      "https://www.cuisineaz.com/recettes/mousse-de-thon-assaisonnee-790.aspx  loading ...\n",
      "https://www.cuisineaz.com/recettes/sardinade-105877.aspx  loading ...\n",
      "https://www.cuisineaz.com/recettes/muffin-aux-courgettes-au-thermomix-105418.aspx  loading ...\n",
      "https://www.cuisineaz.com/recettes/rillettes-de-poulet-au-thermomix-105380.aspx  loading ...\n",
      "https://www.cuisineaz.com/recettes/verrines-de-pamplemousse-au-thon-105325.aspx  loading ...\n",
      "https://www.cuisineaz.com/recettes/houmous-aux-pois-chiches-a-l-extracteur-de-jus-105023.aspx  loading ...\n",
      "https://www.cuisineaz.com/recettes/mousse-de-potimarron-au-siphon-104194.aspx  loading ...\n",
      "https://www.cuisineaz.com/recettes/graines-de-potimarron-grillees-104144.aspx  loading ...\n",
      "https://www.cuisineaz.com/recettes/rillettes-de-canard-au-thermomix-104107.aspx  loading ...\n",
      "https://www.cuisineaz.com/recettes/olives-marinees-faciles-98380.aspx  loading ...\n",
      "https://www.cuisineaz.com/recettes/mini-tartelette-apero-97556.aspx  loading ...\n",
      "https://www.cuisineaz.com/recettes/un-tapas-cabillaud-aioli-pour-l-apero-97188.aspx  loading ...\n",
      "https://www.cuisineaz.com/recettes/blini-au-sarrasin-et-faux-oeufs-de-poisson-vegan-sans-gluten-91601.aspx  loading ...\n",
      "https://www.cuisineaz.com/recettes/blini-farine-de-chataigne-beurre-de-champignons-et-airelles-vegan-sans-gluten-91042.aspx  loading ...\n",
      "https://www.cuisineaz.com/recettes/blinis-de-courgette-90304.aspx  loading ...\n",
      "https://www.cuisineaz.com/recettes/melange-de-noix-pour-l-apero-89233.aspx  loading ...\n",
      "https://www.cuisineaz.com/recettes/blini-aux-epinards-coulis-tomate-et-poivron-rouge-sans-lactose-89036.aspx  loading ...\n",
      "https://www.cuisineaz.com/recettes/mousse-de-poivrons-a-la-ricotta-87153.aspx  loading ...\n",
      "https://www.cuisineaz.com/recettes/blinis-au-crabe-84093.aspx  loading ...\n",
      "https://www.cuisineaz.com/recettes/toast-de-foie-gras-au-pain-d-epices-81205.aspx  loading ...\n",
      "https://www.cuisineaz.com/recettes/blinis-de-lentilles-et-creme-aux-deux-saumons-79878.aspx  loading ...\n",
      "https://www.cuisineaz.com/recettes/mousse-de-foie-de-volaille-au-cognac-77273.aspx  loading ...\n",
      "https://www.cuisineaz.com/recettes/beignets-de-courgettes-de-ma-grand-mere-71216.aspx  loading ...\n",
      "https://www.cuisineaz.com/recettes/mousse-de-concombre-aux-crevettes-71092.aspx  loading ...\n",
      "https://www.cuisineaz.com/recettes/beignets-de-morue-maison-71053.aspx  loading ...\n",
      "https://www.cuisineaz.com/recettes/mousse-legere-de-courgette-au-chevre-68251.aspx  loading ...\n",
      "https://www.cuisineaz.com/recettes/mousse-de-lentilles-a-l-avocat-et-aux-saint-jacques-67222.aspx  loading ...\n",
      "https://www.cuisineaz.com/recettes/popcorn-maison-64334.aspx  loading ...\n",
      "https://www.cuisineaz.com/recettes/toasts-de-poivrons-marines-60840.aspx  loading ...\n",
      "https://www.cuisineaz.com/recettes/mousse-de-betteraves-60102.aspx  loading ...\n",
      "https://www.cuisineaz.com/recettes/mousse-minceur-d-aubergines-59319.aspx  loading ...\n",
      "https://www.cuisineaz.com/recettes/nems-de-chevre-frais-59069.aspx  loading ...\n",
      "https://www.cuisineaz.com/recettes/mousse-d-oeufs-brouilles-57461.aspx  loading ...\n",
      "https://www.cuisineaz.com/recettes/rillettes-de-poireaux-57263.aspx  loading ...\n",
      "https://www.cuisineaz.com/recettes/espuma-de-betteraves-52473.aspx  loading ...\n",
      "https://www.cuisineaz.com/recettes/mousse-de-betteraves-rouges-47363.aspx  loading ...\n",
      "https://www.cuisineaz.com/recettes/mousse-de-foie-46831.aspx  loading ...\n",
      "https://www.cuisineaz.com/recettes/roulade-de-crepe-au-chevre-pour-l-aperitif-46587.aspx  loading ...\n",
      "https://www.cuisineaz.com/recettes/mousse-de-langoustine-et-de-lotte-42394.aspx  loading ...\n",
      "https://www.cuisineaz.com/recettes/mousse-de-saint-jacques-35147.aspx  loading ...\n",
      "https://www.cuisineaz.com/recettes/gougeres-au-parmesan-33455.aspx  loading ...\n",
      "https://www.cuisineaz.com/recettes/mousse-de-saumon-avec-creme-fraiche-14011.aspx  loading ...\n",
      "https://www.cuisineaz.com/recettes/mousse-de-thon-fraicheur-12462.aspx  loading ...\n",
      "https://www.cuisineaz.com/recettes/mousse-au-jambon-11827.aspx  loading ...\n",
      "https://www.cuisineaz.com/recettes/mousse-d-oeufs-au-cumin-11743.aspx  loading ...\n",
      "https://www.cuisineaz.com/recettes/mousse-de-salsifis-10971.aspx  loading ...\n",
      "https://www.cuisineaz.com/recettes/mousse-de-thon-de-jacqueline-7557.aspx  loading ...\n",
      "https://www.cuisineaz.com/recettes/mousse-de-courgettes-4582.aspx  loading ...\n",
      "https://www.cuisineaz.com/recettes/aperitif-aux-feuilles-de-guignier-2519.aspx  loading ...\n",
      "https://www.cuisineaz.com/recettes/gougeres-au-gruyere-et-a-la-creme-epaisse-1936.aspx  loading ...\n",
      "https://www.cuisineaz.com/recettes/blinis-simples-872.aspx  loading ...\n"
     ]
    }
   ],
   "source": [
    "bcolors_blue = '\\033[94m'\n",
    "bcolors_red = '\\033[31m'\n",
    "bold='\\033[01m'\n",
    "reset='\\033[0m'\n",
    "\n",
    "recipe_cat = 'aperitif, bases, drink, dessert, starter, main or all'\n",
    "\n",
    "if __name__ == \"__main__\":\n",
    "    print(f'Which category you want to choose? {bold}{bcolors_blue} {recipe_cat}{reset}.\\\n",
    "           Select one or more categories(sepretated by \\\",\\\" )\\n\\n') \n",
    "\n",
    "    hasKey = None\n",
    "    category=None\n",
    "    \n",
    "    while not hasKey:\n",
    "        category = input()\n",
    "        pattern = re.compile(\"^[a-zA-Z,]+$\")\n",
    "        try:\n",
    "            if not pattern.match(category):\n",
    "                raise TypeError('Invalid category. please try again!')\n",
    "            else: \n",
    "                for i in category.split(','):\n",
    "                    if i not in recipe_cat:\n",
    "                        raise Exception('Invalid category. please try again!')\n",
    "            hasKey = True\n",
    "        except(TypeError,Exception) as error: \n",
    "            print(error)\n",
    "            continue\n",
    "\n",
    "    \n",
    "    \n",
    "    hrefs = collectPath(category)\n",
    "\n",
    "    data = {'title':[], 'total_time':[], 'prep_time':[], 'cook_time':[], 'difficulty':[],\n",
    "                'comments':[], 'rating':[], 'category':[], 'yield':[],'ingredients':[], 'link':[], 'image':[]}\n",
    "    for url in hrefs : \n",
    "        print(url, ' loading ...')\n",
    "        scraper = Scraper()\n",
    "        scraper.load(url)\n",
    "        data['link'].append(url)\n",
    "        data['title'].append(scraper.title())\n",
    "        data['total_time'].append(scraper.time('total_time'))\n",
    "        data['prep_time'].append(scraper.time('prep_time'))\n",
    "        data['cook_time'].append(scraper.time('cook_time'))\n",
    "        data['difficulty'].append(scraper.difficulty())\n",
    "        data['comments'].append(scraper.comments())\n",
    "        data['rating'].append(scraper.rating())\n",
    "        data['category'].append(scraper.category())\n",
    "        data['yield'].append(scraper.yields())\n",
    "        data['ingredients'].append(scraper.ingredients())\n",
    "        data['image'].append(scraper.image())\n",
    "\n",
    "    "
   ]
  },
  {
   "cell_type": "code",
   "execution_count": null,
   "metadata": {
    "scrolled": true
   },
   "outputs": [],
   "source": [
    "data"
   ]
  },
  {
   "cell_type": "code",
   "execution_count": null,
   "metadata": {
    "scrolled": true
   },
   "outputs": [],
   "source": [
    "df = pd.DataFrame(data)\n",
    "df.sample(50)"
   ]
  },
  {
   "cell_type": "markdown",
   "metadata": {},
   "source": [
    "## Data Cleaning"
   ]
  },
  {
   "cell_type": "code",
   "execution_count": null,
   "metadata": {},
   "outputs": [],
   "source": [
    "df.info()"
   ]
  },
  {
   "cell_type": "code",
   "execution_count": null,
   "metadata": {},
   "outputs": [],
   "source": [
    "null_cols = df.isna().sum()\n",
    "null_cols[null_cols > 0]"
   ]
  },
  {
   "cell_type": "code",
   "execution_count": null,
   "metadata": {},
   "outputs": [],
   "source": [
    "df.total_time.fillna('0 min', inplace=True)\n",
    "df.prep_time.fillna('0 min', inplace=True)\n",
    "df.cook_time.fillna('0 min', inplace=True)"
   ]
  },
  {
   "cell_type": "code",
   "execution_count": null,
   "metadata": {},
   "outputs": [],
   "source": [
    "df.total_time = df.total_time.map(get_minutes)\n",
    "df.prep_time = df.prep_time.map(get_minutes)\n",
    "df.cook_time = df.cook_time.map(get_minutes)"
   ]
  },
  {
   "cell_type": "code",
   "execution_count": null,
   "metadata": {},
   "outputs": [],
   "source": [
    "df.comments = df.comments.astype('int64')"
   ]
  },
  {
   "cell_type": "code",
   "execution_count": null,
   "metadata": {},
   "outputs": [],
   "source": [
    "df.difficulty = df.difficulty.map(rename_difficulty)\n",
    "df.category = df.category.map(rename_category)"
   ]
  },
  {
   "cell_type": "code",
   "execution_count": null,
   "metadata": {
    "scrolled": true
   },
   "outputs": [],
   "source": [
    "df.sample(50)"
   ]
  },
  {
   "cell_type": "code",
   "execution_count": null,
   "metadata": {},
   "outputs": [],
   "source": [
    "null_cols = df.isna().sum()\n",
    "null_cols[null_cols > 0]"
   ]
  },
  {
   "cell_type": "code",
   "execution_count": null,
   "metadata": {},
   "outputs": [],
   "source": [
    "df.difficulty.fillna('missing',inplace=True)"
   ]
  },
  {
   "cell_type": "code",
   "execution_count": null,
   "metadata": {},
   "outputs": [],
   "source": [
    "df.describe()"
   ]
  },
  {
   "cell_type": "code",
   "execution_count": null,
   "metadata": {},
   "outputs": [],
   "source": [
    "df.isnull().sum()>0"
   ]
  },
  {
   "cell_type": "markdown",
   "metadata": {},
   "source": [
    "\n",
    "## Export Data"
   ]
  },
  {
   "cell_type": "code",
   "execution_count": null,
   "metadata": {},
   "outputs": [],
   "source": [
    "df.to_csv('output/new_recipes.csv', index=False)"
   ]
  },
  {
   "cell_type": "code",
   "execution_count": null,
   "metadata": {},
   "outputs": [],
   "source": [
    "import pymysql\n",
    "from getpass import getpass\n",
    "from sqlalchemy import create_engine\n",
    "from sqlalchemy import inspect"
   ]
  },
  {
   "cell_type": "code",
   "execution_count": null,
   "metadata": {},
   "outputs": [],
   "source": [
    "username='root'\n",
    "password=getpass()\n",
    "server='localhost'\n",
    "database='cuisine_az'\n",
    "engine = create_engine(f'mysql+pymysql://{username}:{password}@{server}/{database}')\n",
    "df.to_sql(name='new_recipes',con=engine, if_exists='replace',index=False)"
   ]
  },
  {
   "cell_type": "code",
   "execution_count": null,
   "metadata": {
    "scrolled": true
   },
   "outputs": [],
   "source": [
    "data_sql = pd.read_sql_query('SELECT * FROM cuisine_az.recipes', engine)\n",
    "data_sql"
   ]
  },
  {
   "cell_type": "code",
   "execution_count": null,
   "metadata": {},
   "outputs": [],
   "source": [
    "inspector = inspect(engine)\n",
    "inspector.get_table_names()"
   ]
  },
  {
   "cell_type": "code",
   "execution_count": null,
   "metadata": {},
   "outputs": [],
   "source": []
  }
 ],
 "metadata": {
  "kernelspec": {
   "display_name": "Python 3",
   "language": "python",
   "name": "python3"
  },
  "language_info": {
   "codemirror_mode": {
    "name": "ipython",
    "version": 3
   },
   "file_extension": ".py",
   "mimetype": "text/x-python",
   "name": "python",
   "nbconvert_exporter": "python",
   "pygments_lexer": "ipython3",
   "version": "3.8.3"
  }
 },
 "nbformat": 4,
 "nbformat_minor": 4
}
