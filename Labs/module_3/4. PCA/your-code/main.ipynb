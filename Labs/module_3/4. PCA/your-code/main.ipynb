{
 "cells": [
  {
   "cell_type": "markdown",
   "metadata": {},
   "source": [
    "# Before your start:\n",
    "- Read the README.md file\n",
    "- Comment as much as you can and use the resources (README.md file)\n",
    "- Happy learning!"
   ]
  },
  {
   "cell_type": "code",
   "execution_count": 17,
   "metadata": {},
   "outputs": [],
   "source": [
    "# Run this code:\n",
    "\n",
    "%matplotlib inline\n",
    "\n",
    "import matplotlib.pyplot as plt\n",
    "from statsmodels.multivariate.pca import PCA"
   ]
  },
  {
   "cell_type": "code",
   "execution_count": 2,
   "metadata": {},
   "outputs": [],
   "source": [
    "# Import numpy and pandas:\n",
    "\n",
    "import numpy as np\n",
    "import pandas as pd"
   ]
  },
  {
   "cell_type": "markdown",
   "metadata": {},
   "source": [
    "# Challenge 1 - Reading and Standardizing the Data\n",
    "\n",
    "In this challenge we will work with image data and reduce the dimensions of the data to create a 2 dimensional plot. While we have not worked much with image data before, it can be represented as a numpy array where each pixel is assigned a numeric value. In this lesson, we will look at a dataset of cats and a dataset of dogs and see whether reducing them to two dimensions allows us to see if the data is separable. We will start by loading and processing the data. Run the cell below to load the two csv files and convert them into numpy arrays."
   ]
  },
  {
   "cell_type": "code",
   "execution_count": 3,
   "metadata": {},
   "outputs": [],
   "source": [
    "# Run this code\n",
    "\n",
    "cats = np.array(pd.read_csv(\"https://raw.githubusercontent.com/bioramble/pca/master/cat.csv\", header=None))\n",
    "dogs = np.array(pd.read_csv(\"https://raw.githubusercontent.com/bioramble/pca/master/dog.csv\", header=None))"
   ]
  },
  {
   "cell_type": "markdown",
   "metadata": {},
   "source": [
    "Next, we'll examine the shape of both the cats and the dogs arrays. Print out both shapes below."
   ]
  },
  {
   "cell_type": "code",
   "execution_count": 5,
   "metadata": {},
   "outputs": [
    {
     "name": "stdout",
     "output_type": "stream",
     "text": [
      "(4096, 80) (4096, 80)\n"
     ]
    }
   ],
   "source": [
    "# Your code here:\n",
    "print(cats.shape, dogs.shape)\n"
   ]
  },
  {
   "cell_type": "markdown",
   "metadata": {},
   "source": [
    "What this means is that both arrays contain 80 images each (the number of columns). Each image is comprised of 64x64 pixels (so a total of 4096 pixels per image). The images have been flattened such that all 4096 are in a single row.\n",
    "\n",
    "Print out column 0 of the cats array to see what the pixels values look like."
   ]
  },
  {
   "cell_type": "code",
   "execution_count": 22,
   "metadata": {},
   "outputs": [
    {
     "data": {
      "text/plain": [
       "array([64, 64, 64, ..., 64, 64, 61], dtype=int64)"
      ]
     },
     "execution_count": 22,
     "metadata": {},
     "output_type": "execute_result"
    }
   ],
   "source": [
    "# Your code here:\n",
    "cats[:,0]\n"
   ]
  },
  {
   "cell_type": "markdown",
   "metadata": {},
   "source": [
    "Using `matplotlib` we can plot a single cat or a single dog. We do this by reshaping the vector back to a 64x64 image and then using the `imshow` function.\n",
    "\n",
    "Run the code below to look at the first dog and the first cat."
   ]
  },
  {
   "cell_type": "code",
   "execution_count": 7,
   "metadata": {},
   "outputs": [
    {
     "data": {
      "text/plain": [
       "<matplotlib.image.AxesImage at 0x18a963a8c10>"
      ]
     },
     "execution_count": 7,
     "metadata": {},
     "output_type": "execute_result"
    },
    {
     "data": {
      "image/png": "[encoded data removed]",
      "text/plain": [
       "<Figure size 432x288 with 1 Axes>"
      ]
     },
     "metadata": {
      "needs_background": "light"
     },
     "output_type": "display_data"
    }
   ],
   "source": [
    "# Run this code:\n",
    "\n",
    "fig, ax = plt.subplots()\n",
    "ax.imshow(cats[:,0].reshape(64, 64).T, cmap=plt.cm.bone, interpolation='nearest') "
   ]
  },
  {
   "cell_type": "code",
   "execution_count": 8,
   "metadata": {},
   "outputs": [
    {
     "data": {
      "text/plain": [
       "<matplotlib.image.AxesImage at 0x18a970e2070>"
      ]
     },
     "execution_count": 8,
     "metadata": {},
     "output_type": "execute_result"
    },
    {
     "data": {
      "image/png": "[encoded data removed]",
      "text/plain": [
       "<Figure size 432x288 with 1 Axes>"
      ]
     },
     "metadata": {
      "needs_background": "light"
     },
     "output_type": "display_data"
    }
   ],
   "source": [
    "# Run this code:\n",
    "\n",
    "fig, ax = plt.subplots()\n",
    "ax.imshow(dogs[:,0].reshape(64, 64).T, cmap=plt.cm.bone, interpolation='nearest') "
   ]
  },
  {
   "cell_type": "markdown",
   "metadata": {},
   "source": [
    "Next, we would like to create a standardization function. This function will find the mean and standard deviation of each image. We subtract the mean from each pixel and divide each pixel by the standard deviation. Write the function below.\n",
    "\n",
    "Hint: To find the mean and standard deviation of each image, use `numpy`'s version of mean and stadnard deviation and use `axis=0`."
   ]
  },
  {
   "cell_type": "code",
   "execution_count": 34,
   "metadata": {},
   "outputs": [
    {
     "data": {
      "text/plain": [
       "array([[-1., -1., -1.],\n",
       "       [ 1.,  1.,  1.]])"
      ]
     },
     "execution_count": 34,
     "metadata": {},
     "output_type": "execute_result"
    }
   ],
   "source": [
    "def standardize(x):\n",
    "    #This function takes as input a numpy array and returns a stadardized numpy array of the same dimensions.\n",
    "    #Sample input: np.array([[1,2,3],[4,5,6]])\n",
    "    #Sample output: np.array([[-1,-1,-1],[1,1,1]])\n",
    "    \n",
    "    # Your code here:\n",
    "    mean = np.mean(x, axis=0)\n",
    "    std = np.std(x, axis=0)\n",
    "    new_x = (x-mean)/std\n",
    "    return new_x\n",
    "\n",
    "standardize(np.array([[1,2,3],[4,5,6]]))"
   ]
  },
  {
   "cell_type": "markdown",
   "metadata": {},
   "source": [
    "Now, use the `np.concatenate` function to combine the cats and dogs arrays. Use `axis=1` to combine the two correctly. Make sure to put dogs first."
   ]
  },
  {
   "cell_type": "code",
   "execution_count": 35,
   "metadata": {},
   "outputs": [],
   "source": [
    "# Your code here:\n",
    "\n",
    "concat = np.concatenate((dogs,cats),axis=1)"
   ]
  },
  {
   "cell_type": "markdown",
   "metadata": {},
   "source": [
    "Standardize the concatenated array below."
   ]
  },
  {
   "cell_type": "code",
   "execution_count": 54,
   "metadata": {},
   "outputs": [
    {
     "data": {
      "text/plain": [
       "array([[ 2.37662907, -0.30753004,  0.93254857, ..., -1.80817356,\n",
       "         1.42293481, -0.20363951],\n",
       "       [ 2.37662907, -0.40500299,  1.15681724, ..., -2.06459792,\n",
       "         1.44036713, -0.05437635],\n",
       "       [ 2.37662907, -0.68349716,  0.93254857, ..., -1.73124626,\n",
       "         1.45779946, -0.07925354],\n",
       "       ...,\n",
       "       [ 0.22755315, -0.68349716,  0.63352369, ..., -0.65426398,\n",
       "         0.67334483,  0.11976401],\n",
       "       [ 0.22755315, -0.40500299,  0.35941754, ..., -0.32091232,\n",
       "         0.70820948, -0.45241144],\n",
       "       [ 0.22755315, -0.40500299,  0.35941754, ..., -0.67990641,\n",
       "         0.62104786,  0.09488681]])"
      ]
     },
     "execution_count": 54,
     "metadata": {},
     "output_type": "execute_result"
    }
   ],
   "source": [
    "# Your code here:\n",
    "\n",
    "standard_data = standardize(concat)\n",
    "standard_data"
   ]
  },
  {
   "cell_type": "code",
   "execution_count": 37,
   "metadata": {},
   "outputs": [
    {
     "data": {
      "text/plain": [
       "(4096, 160)"
      ]
     },
     "execution_count": 37,
     "metadata": {},
     "output_type": "execute_result"
    }
   ],
   "source": [
    "standard_data.shape"
   ]
  },
  {
   "cell_type": "markdown",
   "metadata": {},
   "source": [
    "# Challenge 2 - Using PCA\n",
    "\n",
    "Now that we have created a standardized matrix of cats and dogs, we'll find the two most important components in the data.\n",
    "\n",
    "Load the `PCA` function from `statsmodels` (read about this function [here](https://www.statsmodels.org/dev/generated/statsmodels.multivariate.pca.PCA.html)) and apply the function to our standarized data. Create a PCA model with two components."
   ]
  },
  {
   "cell_type": "code",
   "execution_count": 55,
   "metadata": {},
   "outputs": [],
   "source": [
    "# Your code here:\n",
    "pc = PCA(standard_data,ncomp=2)\n"
   ]
  },
  {
   "cell_type": "markdown",
   "metadata": {},
   "source": [
    "Use `numpy` to find to transpose the standardized pet array. This will help us compute the projection."
   ]
  },
  {
   "cell_type": "code",
   "execution_count": 56,
   "metadata": {},
   "outputs": [],
   "source": [
    "# Your code here:\n",
    "tranposed_data = np.transpose(standard_data)\n"
   ]
  },
  {
   "cell_type": "markdown",
   "metadata": {},
   "source": [
    "Find the dot product of the transposed standardized pet matrix and the `factors` of the `PCA` model found above. This will be the projection onto 2 dimensions. This means that each cat and dog image will now only have two columns instead of 4096."
   ]
  },
  {
   "cell_type": "code",
   "execution_count": 57,
   "metadata": {},
   "outputs": [],
   "source": [
    "# Your code here:\n",
    "factors = pc.factors\n"
   ]
  },
  {
   "cell_type": "code",
   "execution_count": 58,
   "metadata": {
    "scrolled": true
   },
   "outputs": [
    {
     "data": {
      "text/plain": [
       "array([[-42.47761804,  14.71821433],\n",
       "       [-32.18870651, -19.2662963 ],\n",
       "       [ 12.96322652, -18.02197453],\n",
       "       [ -5.08306216, -32.95557124],\n",
       "       [-32.86623188,   4.11968744],\n",
       "       [  8.78857293, -45.18911556],\n",
       "       [-22.15300067, -13.23328497],\n",
       "       [-14.30959229, -39.06160918],\n",
       "       [-12.40852059, -38.71301053],\n",
       "       [-39.4764241 ,   2.20719028],\n",
       "       [ -0.35046665, -35.54740511],\n",
       "       [-21.77650066, -17.65748755],\n",
       "       [ -8.5096921 , -16.73090386],\n",
       "       [  3.05954753, -17.9826923 ],\n",
       "       [-19.18305111, -31.80632673],\n",
       "       [-17.58125885, -33.5972975 ],\n",
       "       [-16.02471892,  -8.3121984 ],\n",
       "       [-39.03886625, -21.24295061],\n",
       "       [-18.40609248, -28.7375926 ],\n",
       "       [-15.5699201 , -44.77293664],\n",
       "       [  3.62520175, -35.80142747],\n",
       "       [ -1.61533154, -38.347911  ],\n",
       "       [ -9.82059107, -15.2681486 ],\n",
       "       [-11.86784164, -40.88818108],\n",
       "       [-27.13786339, -30.69675336],\n",
       "       [ -0.22735455, -43.29906426],\n",
       "       [  3.71048443, -28.80944809],\n",
       "       [ -0.89249807, -22.90354209],\n",
       "       [-13.60771628, -47.36631028],\n",
       "       [ -9.70728816, -24.72057132],\n",
       "       [ -4.7909281 , -30.65608069],\n",
       "       [ -7.39104217, -27.00402038],\n",
       "       [-30.12429585, -29.25403952],\n",
       "       [-13.20286841, -35.49208925],\n",
       "       [  7.26399081, -38.20544099],\n",
       "       [-15.86070289, -14.8604834 ],\n",
       "       [ 14.20329986, -37.91625538],\n",
       "       [ -1.4072825 , -31.60202209],\n",
       "       [  6.57712234, -43.05144162],\n",
       "       [-28.6619948 , -19.04026736],\n",
       "       [-17.05064448, -40.12970253],\n",
       "       [-11.47725012,  16.68520462],\n",
       "       [ 10.07338245, -32.85932368],\n",
       "       [-15.18663388, -27.12325513],\n",
       "       [  8.06078337, -16.13287968],\n",
       "       [-20.23250461,  22.41075609],\n",
       "       [-26.57190701,   8.39746989],\n",
       "       [ -6.9585076 ,  -8.00496819],\n",
       "       [-15.25017626,  11.79988548],\n",
       "       [ 16.51519805, -34.45325576],\n",
       "       [-29.4785057 ,  11.0770776 ],\n",
       "       [-36.66240772,  26.75661096],\n",
       "       [ -6.1159088 ,  15.14224027],\n",
       "       [ 21.80417281, -40.23379395],\n",
       "       [ 21.58426173,  -4.97128478],\n",
       "       [ 14.00421682,  -3.7491233 ],\n",
       "       [-29.15009875,   6.22864411],\n",
       "       [-14.84114801,  12.18741032],\n",
       "       [ 16.64985118, -26.88390437],\n",
       "       [  2.07149086, -30.33384009],\n",
       "       [ -7.74221742, -39.11739108],\n",
       "       [-31.01784874,  21.47527049],\n",
       "       [-31.00859631,   5.51331908],\n",
       "       [ 22.94265569,   2.94354372],\n",
       "       [ 10.69271032,  -8.91738745],\n",
       "       [-27.32238788,  -0.11639355],\n",
       "       [ -5.07479957,  21.97111365],\n",
       "       [ 32.22521867, -11.42313402],\n",
       "       [  2.30123949,  -3.26423721],\n",
       "       [-22.66197385, -28.94288324],\n",
       "       [ 10.60817522, -11.76083298],\n",
       "       [  1.00745894, -31.92658204],\n",
       "       [-26.41891132, -25.32152792],\n",
       "       [ 21.07571773, -24.10696037],\n",
       "       [-10.27199041,  25.03302949],\n",
       "       [-39.86955911,   5.87497612],\n",
       "       [-33.23089194,  -8.66938934],\n",
       "       [  8.28175932, -34.63064771],\n",
       "       [  3.35185538, -33.18823673],\n",
       "       [-39.01239956,   2.67781662],\n",
       "       [ 15.65535387,  14.21896962],\n",
       "       [ 49.69180918,   1.02037256],\n",
       "       [-48.16605191,   3.7528642 ],\n",
       "       [-41.00710478,  -1.33593154],\n",
       "       [ 30.17992665,  17.50527999],\n",
       "       [ 20.86863603,  32.92673293],\n",
       "       [ 41.40505348,  -2.96678177],\n",
       "       [  5.21364832,  16.98706106],\n",
       "       [ 42.36328171,   7.61915106],\n",
       "       [ 21.04212661,  17.22317831],\n",
       "       [ -0.06504733,   4.65422311],\n",
       "       [ -5.76076325,   4.41333431],\n",
       "       [ 51.79926744,   9.90289121],\n",
       "       [ 30.32243658,  11.90543813],\n",
       "       [-28.89795759,  13.75861683],\n",
       "       [ 39.1612538 ,  16.44552986],\n",
       "       [-28.95400781,  10.90627483],\n",
       "       [ 33.24421981,  10.4768311 ],\n",
       "       [-42.8326886 ,  -0.79074765],\n",
       "       [ 50.59949364,   4.93943605],\n",
       "       [-10.98031318,  12.22131458],\n",
       "       [ 35.53242394,  -1.86619381],\n",
       "       [ 35.51807307, -13.04056466],\n",
       "       [ 34.03177436, -32.11339673],\n",
       "       [-51.60182946,   5.87830409],\n",
       "       [  7.0381312 , -21.65566454],\n",
       "       [ 34.95042527,  18.00924989],\n",
       "       [ 31.579875  , -18.19118326],\n",
       "       [-21.3963603 ,   2.50187031],\n",
       "       [ 20.89018069,  10.41386945],\n",
       "       [  2.45031565,  16.6703341 ],\n",
       "       [-12.37522742,  15.44005524],\n",
       "       [ 18.45372222,  29.5943449 ],\n",
       "       [-52.93563252,  11.18386097],\n",
       "       [ 51.11217708,  -2.09035815],\n",
       "       [  7.5957956 , -11.95933974],\n",
       "       [-50.48353366,  -1.91897934],\n",
       "       [ 42.99247816,   7.89967326],\n",
       "       [ 20.95311185, -20.3463869 ],\n",
       "       [ 15.53886117,  14.33033741],\n",
       "       [  7.32305673,  19.47135655],\n",
       "       [ 27.14081128,  18.14728285],\n",
       "       [ 54.45923938, -14.50936721],\n",
       "       [ 32.0123201 , -20.6028296 ],\n",
       "       [ 51.8362507 , -18.81617121],\n",
       "       [-33.45974497,  14.89453044],\n",
       "       [-34.07465094,  -4.51066318],\n",
       "       [-28.69953768,   9.9074628 ],\n",
       "       [ 50.72387267,  -4.89769163],\n",
       "       [ -1.19880326,   8.45762988],\n",
       "       [ 24.96539726,  15.11449624],\n",
       "       [ 15.91631133, -11.81330916],\n",
       "       [ 46.1526799 ,  15.58837953],\n",
       "       [ 36.02326638,  13.22930501],\n",
       "       [-18.57496751,  20.47991758],\n",
       "       [ 38.8977072 ,  17.92760755],\n",
       "       [ 36.33162147,  22.06666677],\n",
       "       [ 19.51124516,  -9.24727312],\n",
       "       [-32.96577355,  27.70327678],\n",
       "       [ 21.72990855, -34.16990332],\n",
       "       [  1.73705232,  -1.20377266],\n",
       "       [ 21.38639262,  14.19442546],\n",
       "       [ 39.50116822,  10.46720896],\n",
       "       [ 42.06328756, -10.9652322 ],\n",
       "       [-25.09819755,   2.3853781 ],\n",
       "       [  7.03603849,  18.47047983],\n",
       "       [-51.02431917,   7.68602495],\n",
       "       [  3.591052  ,  -0.40723947],\n",
       "       [-22.24744913,   6.54638268],\n",
       "       [-32.66740408,  -4.59164342],\n",
       "       [-15.71567132,   3.60468643],\n",
       "       [ 35.02622104, -11.9957155 ],\n",
       "       [ 10.98906028,  14.44502609],\n",
       "       [ -2.00560462,  -3.83356017],\n",
       "       [-11.08836325,  -0.66005686],\n",
       "       [ 26.889975  , -19.08646582],\n",
       "       [ 32.94241511, -23.68806731],\n",
       "       [ 45.69201296, -12.84691688],\n",
       "       [-17.07389355,  -3.83187358],\n",
       "       [  8.07906584,  12.94274622]])"
      ]
     },
     "execution_count": 58,
     "metadata": {},
     "output_type": "execute_result"
    }
   ],
   "source": [
    "np.dot(tranposed_data,factors)"
   ]
  },
  {
   "cell_type": "markdown",
   "metadata": {},
   "source": [
    "# Challenge 3 - Plotting the Data\n",
    "\n",
    "Now that we have reduced our cats and dogs arrays, we can easily plot the data in a way that the human eye can understand. We can look at this plot to see whether there are differences between the cat and dog images. \n",
    "\n",
    "In the cell below, turn the two dimensional projection into a pandas dataframe and name the columns `pc1`, and `pc2` respectively."
   ]
  },
  {
   "cell_type": "code",
   "execution_count": 45,
   "metadata": {},
   "outputs": [],
   "source": [
    "# Your code here:\n",
    "pc_pets = pd.DataFrame(np.dot(tranposed_data,factors), columns=(\"pc1\",\"pc2\"))\n"
   ]
  },
  {
   "cell_type": "markdown",
   "metadata": {},
   "source": [
    "Create a labels list. This list will be of size 160. The first 80 elements in the list will be the word `blue`, and the last 80 elements will be `red`. This will ensure that all dog observations will be colored in blue and all cats will be colored in red. Name this list `colors`."
   ]
  },
  {
   "cell_type": "code",
   "execution_count": 52,
   "metadata": {},
   "outputs": [],
   "source": [
    "# Your code here:\n",
    "colors = ['blue'] * 80 + ['red'] * 80"
   ]
  },
  {
   "cell_type": "markdown",
   "metadata": {},
   "source": [
    "Create a scatter plot of `pc1` and `pc2` below. Use the `colors` list above to color the observations by setting `c=colors`."
   ]
  },
  {
   "cell_type": "code",
   "execution_count": 63,
   "metadata": {},
   "outputs": [
    {
     "data": {
      "image/png": "[encoded data removed]",
      "text/plain": [
       "<Figure size 432x288 with 1 Axes>"
      ]
     },
     "metadata": {
      "needs_background": "light"
     },
     "output_type": "display_data"
    }
   ],
   "source": [
    "# Your code here:\n",
    "plt.scatter(pc_pets.pc1, pc_pets.pc2, c=colors)\n",
    "plt.title('')\n",
    "plt.xlabel('pc1')\n",
    "plt.ylabel('pc2')\n",
    "plt.show()\n"
   ]
  },
  {
   "cell_type": "markdown",
   "metadata": {},
   "source": [
    "Do you see a clear separation between cats and dogs? Write your answer below."
   ]
  },
  {
   "cell_type": "code",
   "execution_count": 18,
   "metadata": {},
   "outputs": [],
   "source": [
    "# Your conclusions here:\n",
    "\n"
   ]
  },
  {
   "cell_type": "code",
   "execution_count": null,
   "metadata": {},
   "outputs": [],
   "source": []
  }
 ],
 "metadata": {
  "kernelspec": {
   "display_name": "Python 3",
   "language": "python",
   "name": "python3"
  },
  "language_info": {
   "codemirror_mode": {
    "name": "ipython",
    "version": 3
   },
   "file_extension": ".py",
   "mimetype": "text/x-python",
   "name": "python",
   "nbconvert_exporter": "python",
   "pygments_lexer": "ipython3",
   "version": "3.8.3"
  }
 },
 "nbformat": 4,
 "nbformat_minor": 4
}
