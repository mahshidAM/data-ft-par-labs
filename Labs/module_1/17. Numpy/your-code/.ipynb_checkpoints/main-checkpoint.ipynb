{
 "cells": [
  {
   "cell_type": "markdown",
   "metadata": {},
   "source": [
    "# Intrduction to NumPy\n",
    "\n",
    "\n",
    "#### 1. Import NumPy under the name np."
   ]
  },
  {
   "cell_type": "code",
   "execution_count": 1,
   "metadata": {},
   "outputs": [],
   "source": [
    "# your code here\n",
    "import numpy as np"
   ]
  },
  {
   "cell_type": "markdown",
   "metadata": {},
   "source": [
    "#### 2. Print your NumPy version."
   ]
  },
  {
   "cell_type": "code",
   "execution_count": 11,
   "metadata": {},
   "outputs": [
    {
     "name": "stdout",
     "output_type": "stream",
     "text": [
      "Name: numpy\n",
      "Version: 1.18.5\n",
      "Summary: NumPy is the fundamental package for array computing with Python.\n",
      "Home-page: https://www.numpy.org\n",
      "Author: Travis E. Oliphant et al.\n",
      "Author-email: None\n",
      "License: BSD\n",
      "Location: c:\\users\\mahsh\\anaconda3\\lib\\site-packages\n",
      "Requires: \n",
      "Required-by: yellowbrick, xgboost, wordcloud, visions, umap-learn, thinc, tables, suod, statsmodels, spacy, seaborn, scipy, scikit-learn, PyWavelets, pyod, pyLDAvis, pycaret, phik, patsy, pandas, pandas-profiling, numexpr, numba, mlxtend, mlflow, mkl-random, mkl-fft, missingno, matplotlib, lightgbm, kmodes, imbalanced-learn, imageio, ImageHash, h5py, gensim, cufflinks, combo, catboost, Bottleneck, bokeh, blis, bkcharts, astropy\n"
     ]
    }
   ],
   "source": [
    "# your code here\n",
    "!pip show numpy"
   ]
  },
  {
   "cell_type": "markdown",
   "metadata": {},
   "source": [
    "#### 3. Generate a 2x3x5 3-dimensional array with random values. Assign the array to variable *a*.\n",
    "**Challenge**: there are at least three easy ways that use numpy to generate random arrays. How many ways can you find?"
   ]
  },
  {
   "cell_type": "code",
   "execution_count": 64,
   "metadata": {},
   "outputs": [
    {
     "data": {
      "text/plain": [
       "array([[[0.44888655, 0.44888655, 0.44888655],\n",
       "        [0.44888655, 0.44888655, 0.44888655]],\n",
       "\n",
       "       [[0.44888655, 0.44888655, 0.44888655],\n",
       "        [0.44888655, 0.44888655, 0.44888655]],\n",
       "\n",
       "       [[0.44888655, 0.44888655, 0.44888655],\n",
       "        [0.44888655, 0.44888655, 0.44888655]],\n",
       "\n",
       "       [[0.44888655, 0.44888655, 0.44888655],\n",
       "        [0.44888655, 0.44888655, 0.44888655]],\n",
       "\n",
       "       [[0.44888655, 0.44888655, 0.44888655],\n",
       "        [0.44888655, 0.44888655, 0.44888655]]])"
      ]
     },
     "execution_count": 64,
     "metadata": {},
     "output_type": "execute_result"
    }
   ],
   "source": [
    "# Method 1\n",
    "#np.full((5,2,3), np.random.random())"
   ]
  },
  {
   "cell_type": "code",
   "execution_count": null,
   "metadata": {},
   "outputs": [],
   "source": [
    "# Method 2"
   ]
  },
  {
   "cell_type": "code",
   "execution_count": 65,
   "metadata": {},
   "outputs": [],
   "source": [
    "# Method 3\n",
    "a = np.random.random((2,3,5))"
   ]
  },
  {
   "cell_type": "markdown",
   "metadata": {},
   "source": [
    "#### 4. Print *a*.\n"
   ]
  },
  {
   "cell_type": "code",
   "execution_count": 19,
   "metadata": {},
   "outputs": [
    {
     "data": {
      "text/plain": [
       "array([[[0.10716921, 0.13700069, 0.63376948, 0.49812047, 0.01964955],\n",
       "        [0.57227203, 0.97243234, 0.2028602 , 0.64584252, 0.29705651],\n",
       "        [0.61160051, 0.00432745, 0.27391578, 0.80584404, 0.05753868]],\n",
       "\n",
       "       [[0.21677589, 0.25113854, 0.89181206, 0.63971339, 0.93517883],\n",
       "        [0.0460464 , 0.99474623, 0.58852921, 0.39063242, 0.73857022],\n",
       "        [0.39081321, 0.62528443, 0.65630946, 0.29005047, 0.76550696]]])"
      ]
     },
     "execution_count": 19,
     "metadata": {},
     "output_type": "execute_result"
    }
   ],
   "source": [
    "# your code here\n",
    "a"
   ]
  },
  {
   "cell_type": "markdown",
   "metadata": {},
   "source": [
    "#### 5. Create a 5x2x3 3-dimensional array with all values equaling 1. Assign the array to variable *b*."
   ]
  },
  {
   "cell_type": "code",
   "execution_count": 69,
   "metadata": {},
   "outputs": [],
   "source": [
    "# your code here\n",
    "#b = np.full((5,2,3),1)\n",
    "b = np.ones((5,2,3))"
   ]
  },
  {
   "cell_type": "markdown",
   "metadata": {},
   "source": [
    "#### 6. Print *b*.\n"
   ]
  },
  {
   "cell_type": "code",
   "execution_count": 70,
   "metadata": {},
   "outputs": [
    {
     "data": {
      "text/plain": [
       "array([[[1., 1., 1.],\n",
       "        [1., 1., 1.]],\n",
       "\n",
       "       [[1., 1., 1.],\n",
       "        [1., 1., 1.]],\n",
       "\n",
       "       [[1., 1., 1.],\n",
       "        [1., 1., 1.]],\n",
       "\n",
       "       [[1., 1., 1.],\n",
       "        [1., 1., 1.]],\n",
       "\n",
       "       [[1., 1., 1.],\n",
       "        [1., 1., 1.]]])"
      ]
     },
     "execution_count": 70,
     "metadata": {},
     "output_type": "execute_result"
    }
   ],
   "source": [
    "# your code here\n",
    "b"
   ]
  },
  {
   "cell_type": "markdown",
   "metadata": {},
   "source": [
    "#### 7. Do *a* and *b* have the same size? How do you prove that in Python code?"
   ]
  },
  {
   "cell_type": "code",
   "execution_count": 36,
   "metadata": {},
   "outputs": [
    {
     "name": "stdout",
     "output_type": "stream",
     "text": [
      "30 30\n"
     ]
    }
   ],
   "source": [
    "# your code here\n",
    "print(a.size,b.size)\n",
    "#yes they have the same size"
   ]
  },
  {
   "cell_type": "markdown",
   "metadata": {},
   "source": [
    "#### 8. Are you able to add *a* and *b*? Why or why not?\n"
   ]
  },
  {
   "cell_type": "code",
   "execution_count": 50,
   "metadata": {},
   "outputs": [
    {
     "name": "stdout",
     "output_type": "stream",
     "text": [
      "(2, 3, 5) (5, 2, 3)\n"
     ]
    }
   ],
   "source": [
    "# your answer here\n",
    "print(a.shape,b.shape)\n",
    "#no because they dont have the same shape\n"
   ]
  },
  {
   "cell_type": "markdown",
   "metadata": {},
   "source": [
    "#### 9. Transpose *b* so that it has the same structure of *a* (i.e. become a 2x3x5 array). Assign the transposed array to variable *c*."
   ]
  },
  {
   "cell_type": "code",
   "execution_count": 53,
   "metadata": {},
   "outputs": [],
   "source": [
    "# your code here\n",
    "c = np.transpose(b,(1,2,0))"
   ]
  },
  {
   "cell_type": "markdown",
   "metadata": {},
   "source": [
    "#### 10. Try to add *a* and *c*. Now it should work. Assign the sum to variable *d*. But why does it work now?"
   ]
  },
  {
   "cell_type": "code",
   "execution_count": 54,
   "metadata": {},
   "outputs": [
    {
     "name": "stdout",
     "output_type": "stream",
     "text": [
      "(2, 3, 5) (2, 3, 5)\n"
     ]
    }
   ],
   "source": [
    "# your code/answer here\n",
    "print(a.shape,c.shape)\n",
    "d = np.add(a,c)"
   ]
  },
  {
   "cell_type": "markdown",
   "metadata": {},
   "source": [
    "#### 11. Print *a* and *d*. Notice the difference and relation of the two array in terms of the values? Explain."
   ]
  },
  {
   "cell_type": "code",
   "execution_count": 55,
   "metadata": {},
   "outputs": [
    {
     "name": "stdout",
     "output_type": "stream",
     "text": [
      "a=  [[[0.10716921 0.13700069 0.63376948 0.49812047 0.01964955]\n",
      "  [0.57227203 0.97243234 0.2028602  0.64584252 0.29705651]\n",
      "  [0.61160051 0.00432745 0.27391578 0.80584404 0.05753868]]\n",
      "\n",
      " [[0.21677589 0.25113854 0.89181206 0.63971339 0.93517883]\n",
      "  [0.0460464  0.99474623 0.58852921 0.39063242 0.73857022]\n",
      "  [0.39081321 0.62528443 0.65630946 0.29005047 0.76550696]]]\n",
      "d=  [[[1.10716921 1.13700069 1.63376948 1.49812047 1.01964955]\n",
      "  [1.57227203 1.97243234 1.2028602  1.64584252 1.29705651]\n",
      "  [1.61160051 1.00432745 1.27391578 1.80584404 1.05753868]]\n",
      "\n",
      " [[1.21677589 1.25113854 1.89181206 1.63971339 1.93517883]\n",
      "  [1.0460464  1.99474623 1.58852921 1.39063242 1.73857022]\n",
      "  [1.39081321 1.62528443 1.65630946 1.29005047 1.76550696]]]\n"
     ]
    }
   ],
   "source": [
    "# your code/answer here\n",
    "print('a= ', a)\n",
    "print('d= ', d)\n",
    "# each ellement in d is equal to each element of a (in the same place) + 1"
   ]
  },
  {
   "cell_type": "markdown",
   "metadata": {},
   "source": [
    "#### 12. Multiply *a* and *c*. Assign the result to *e*."
   ]
  },
  {
   "cell_type": "code",
   "execution_count": 56,
   "metadata": {},
   "outputs": [],
   "source": [
    "# your code here\n",
    "e = np.multiply(a,c)"
   ]
  },
  {
   "cell_type": "markdown",
   "metadata": {},
   "source": [
    "#### 13. Does *e* equal to *a*? Why or why not?\n"
   ]
  },
  {
   "cell_type": "code",
   "execution_count": 59,
   "metadata": {},
   "outputs": [
    {
     "name": "stdout",
     "output_type": "stream",
     "text": [
      "e = [[[0.10716921 0.13700069 0.63376948 0.49812047 0.01964955]\n",
      "  [0.57227203 0.97243234 0.2028602  0.64584252 0.29705651]\n",
      "  [0.61160051 0.00432745 0.27391578 0.80584404 0.05753868]]\n",
      "\n",
      " [[0.21677589 0.25113854 0.89181206 0.63971339 0.93517883]\n",
      "  [0.0460464  0.99474623 0.58852921 0.39063242 0.73857022]\n",
      "  [0.39081321 0.62528443 0.65630946 0.29005047 0.76550696]]]\n",
      "True\n"
     ]
    }
   ],
   "source": [
    "# your code/answer here\n",
    "print('e =', e)\n",
    "#yes they are equal, because we multiply each ellement in a by the element of c(in the same place) that is equal 1 (aij*cij = aij*1 = aij)\n",
    "if a.all() == e.all() :\n",
    "    print(True)"
   ]
  },
  {
   "cell_type": "markdown",
   "metadata": {},
   "source": [
    "#### 14. Identify the max, min, and mean values in *d*. Assign those values to variables *d_max*, *d_min* and *d_mean*."
   ]
  },
  {
   "cell_type": "code",
   "execution_count": 61,
   "metadata": {},
   "outputs": [
    {
     "name": "stdout",
     "output_type": "stream",
     "text": [
      "d_max, d_min, d_mean = 1.9947462293943423 1.0043274473094084 1.475350239363993\n"
     ]
    }
   ],
   "source": [
    "# your code here\n",
    "d_max = d.max()\n",
    "d_min = d.min()\n",
    "d_mean = d.mean()\n",
    "print('d_max, d_min, d_mean =',d_max,d_min,d_mean)"
   ]
  },
  {
   "cell_type": "markdown",
   "metadata": {},
   "source": [
    "#### 15. Now we want to label the values in *d*. First create an empty array *f* with the same shape (i.e. 2x3x5) as *d* using `np.empty`.\n"
   ]
  },
  {
   "cell_type": "code",
   "execution_count": 93,
   "metadata": {},
   "outputs": [
    {
     "data": {
      "text/plain": [
       "array([[[1.10716921, 1.13700069, 1.63376948, 1.49812047, 1.01964955],\n",
       "        [1.57227203, 1.97243234, 1.2028602 , 1.64584252, 1.29705651],\n",
       "        [1.61160051, 1.00432745, 1.27391578, 1.80584404, 1.05753868]],\n",
       "\n",
       "       [[1.21677589, 1.25113854, 1.89181206, 1.63971339, 1.93517883],\n",
       "        [1.0460464 , 1.99474623, 1.58852921, 1.39063242, 1.73857022],\n",
       "        [1.39081321, 1.62528443, 1.65630946, 1.29005047, 1.76550696]]])"
      ]
     },
     "execution_count": 93,
     "metadata": {},
     "output_type": "execute_result"
    }
   ],
   "source": [
    "# your code here\n",
    "f = np.empty((2,3,5))\n",
    "f"
   ]
  },
  {
   "cell_type": "markdown",
   "metadata": {},
   "source": [
    "#### 16. Populate the values in *f*. \n",
    "\n",
    "For each value in *d*, if it's larger than *d_min* but smaller than *d_mean*, assign 25 to the corresponding value in *f*. If a value in *d* is larger than *d_mean* but smaller than *d_max*, assign 75 to the corresponding value in *f*. If a value equals to *d_mean*, assign 50 to the corresponding value in *f*. Assign 0 to the corresponding value(s) in *f* for *d_min* in *d*. Assign 100 to the corresponding value(s) in *f* for *d_max* in *d*. In the end, f should have only the following values: 0, 25, 50, 75, and 100.\n",
    "\n",
    "**Note**: you don't have to use Numpy in this question."
   ]
  },
  {
   "cell_type": "code",
   "execution_count": 94,
   "metadata": {},
   "outputs": [],
   "source": [
    "# your code here\n",
    "for i in range(2):\n",
    "    for j in range(3):\n",
    "        for k in range(5):\n",
    "           # print(d[i,j,k])\n",
    "            if d[i,j,k] <= d_min :\n",
    "                f[i,j,k] = 0\n",
    "            elif d[i,j,k] > d_min and d[i,j,k] < d_mean :\n",
    "                f[i,j,k] = 25\n",
    "            elif d[i,j,k] == d_mean:\n",
    "                f[i,j,k] = 50\n",
    "            elif d[i,j,k]>d_mean and d[i,j,k]<d_max :\n",
    "                f[i,j,k] = 75\n",
    "            elif d[i,j,k] >= d_max :\n",
    "                f[i,j,k] = 100\n"
   ]
  },
  {
   "cell_type": "markdown",
   "metadata": {},
   "source": [
    "#### 17. Print *d* and *f*. Do you have your expected *f*?\n",
    "For instance, if your *d* is:\n",
    "```python\n",
    "[[[1.85836099, 1.67064465, 1.62576044, 1.40243961, 1.88454931],\n",
    "[1.75354326, 1.69403643, 1.36729252, 1.61415071, 1.12104981],\n",
    "[1.72201435, 1.1862918 , 1.87078449, 1.7726778 , 1.88180042]],\n",
    "[[1.44747908, 1.31673383, 1.02000951, 1.52218947, 1.97066381],\n",
    "[1.79129243, 1.74983003, 1.96028037, 1.85166831, 1.65450881],\n",
    "[1.18068344, 1.9587381 , 1.00656599, 1.93402165, 1.73514584]]]\n",
    "```\n",
    "Your *f* should be:\n",
    "```python\n",
    "[[[ 75.,  75.,  75.,  25.,  75.],\n",
    "[ 75.,  75.,  25.,  25.,  25.],\n",
    "[ 75.,  25.,  75.,  75.,  75.]],\n",
    "[[ 25.,  25.,  25.,  25., 100.],\n",
    "[ 75.,  75.,  75.,  75.,  75.],\n",
    "[ 25.,  75.,   0.,  75.,  75.]]]\n",
    "```"
   ]
  },
  {
   "cell_type": "code",
   "execution_count": 95,
   "metadata": {},
   "outputs": [
    {
     "name": "stdout",
     "output_type": "stream",
     "text": [
      "d_max, d_min, d_mean = 1.9947462293943423 1.0043274473094084 1.475350239363993\n",
      "\n",
      "d =  [[[1.10716921 1.13700069 1.63376948 1.49812047 1.01964955]\n",
      "  [1.57227203 1.97243234 1.2028602  1.64584252 1.29705651]\n",
      "  [1.61160051 1.00432745 1.27391578 1.80584404 1.05753868]]\n",
      "\n",
      " [[1.21677589 1.25113854 1.89181206 1.63971339 1.93517883]\n",
      "  [1.0460464  1.99474623 1.58852921 1.39063242 1.73857022]\n",
      "  [1.39081321 1.62528443 1.65630946 1.29005047 1.76550696]]]\n",
      "\n",
      "f =  [[[ 25.  25.  75.  75.  25.]\n",
      "  [ 75.  75.  25.  75.  25.]\n",
      "  [ 75.   0.  25.  75.  25.]]\n",
      "\n",
      " [[ 25.  25.  75.  75.  75.]\n",
      "  [ 25. 100.  75.  25.  75.]\n",
      "  [ 25.  75.  75.  25.  75.]]]\n"
     ]
    }
   ],
   "source": [
    "# your code here\n",
    "print('d_max, d_min, d_mean =',d_max,d_min,d_mean)                \n",
    "print('\\nd = ',d)\n",
    "print('\\nf = ', f)"
   ]
  },
  {
   "cell_type": "markdown",
   "metadata": {},
   "source": [
    "#### 18. Bonus question: instead of using numbers (i.e. 0, 25, 50, 75, and 100), use string values  (\"A\", \"B\", \"C\", \"D\", and \"E\") to label the array elements. For the example above, the expected result is:\n",
    "\n",
    "```python\n",
    "[[[ 'D',  'D',  'D',  'B',  'D'],\n",
    "[ 'D',  'D',  'B',  'B',  'B'],\n",
    "[ 'D',  'B',  'D',  'D',  'D']],\n",
    "[[ 'B',  'B',  'B',  'B',  'E'],\n",
    "[ 'D',  'D',  'D',  'D',  'D'],\n",
    "[ 'B',  'D',   'A',  'D', 'D']]]\n",
    "```\n",
    "**Note**: you don't have to use Numpy in this question."
   ]
  },
  {
   "cell_type": "code",
   "execution_count": null,
   "metadata": {},
   "outputs": [],
   "source": [
    "# your code here\n",
    "#f1 = np.where(f == 0., 'A', f) \n",
    "#f2 = np.where(f1 == 25., 'B', f1) \n",
    "\n",
    "print('d_max, d_min, d_mean =',d_max,d_min,d_mean)                \n",
    "print('\\nd = ',d)\n",
    "print('\\nf = ', f2)"
   ]
  },
  {
   "cell_type": "code",
   "execution_count": 114,
   "metadata": {},
   "outputs": [
    {
     "data": {
      "text/plain": [
       "array([[[None, None, None, None, None],\n",
       "        [None, None, None, None, None],\n",
       "        [None, None, None, None, None]],\n",
       "\n",
       "       [[None, None, None, None, None],\n",
       "        [None, None, None, None, None],\n",
       "        [None, None, None, None, None]]], dtype=object)"
      ]
     },
     "execution_count": 114,
     "metadata": {},
     "output_type": "execute_result"
    }
   ],
   "source": [
    "f1 = np.empty((2,3,5), dtype=object)\n",
    "f1"
   ]
  },
  {
   "cell_type": "code",
   "execution_count": 115,
   "metadata": {},
   "outputs": [
    {
     "name": "stdout",
     "output_type": "stream",
     "text": [
      "d_max, d_min, d_mean = 1.9947462293943423 1.0043274473094084 1.475350239363993\n",
      "\n",
      "d =  [[[1.10716921 1.13700069 1.63376948 1.49812047 1.01964955]\n",
      "  [1.57227203 1.97243234 1.2028602  1.64584252 1.29705651]\n",
      "  [1.61160051 1.00432745 1.27391578 1.80584404 1.05753868]]\n",
      "\n",
      " [[1.21677589 1.25113854 1.89181206 1.63971339 1.93517883]\n",
      "  [1.0460464  1.99474623 1.58852921 1.39063242 1.73857022]\n",
      "  [1.39081321 1.62528443 1.65630946 1.29005047 1.76550696]]]\n",
      "\n",
      "f1 =  [[['B' 'B' 'D' 'D' 'B']\n",
      "  ['D' 'D' 'B' 'D' 'B']\n",
      "  ['D' 'A' 'B' 'D' 'B']]\n",
      "\n",
      " [['B' 'B' 'D' 'D' 'D']\n",
      "  ['B' 'E' 'D' 'B' 'D']\n",
      "  ['B' 'D' 'D' 'B' 'D']]]\n"
     ]
    }
   ],
   "source": [
    "for i in range(2):\n",
    "    for j in range(3):\n",
    "        for k in range(5):\n",
    "            if d[i,j,k] <= d_min :\n",
    "                f1[i,j,k] = 'A'\n",
    "            elif d[i,j,k] > d_min and d[i,j,k] < d_mean :\n",
    "                f1[i,j,k] = 'B'\n",
    "            elif d[i,j,k] == d_mean:\n",
    "                f1[i,j,k] = 'C'\n",
    "            elif d[i,j,k]>d_mean and d[i,j,k]<d_max :\n",
    "                f1[i,j,k] = 'D'\n",
    "            elif d[i,j,k] >= d_max :\n",
    "                f1[i,j,k] = 'E'\n",
    "                \n",
    "print('d_max, d_min, d_mean =',d_max,d_min,d_mean)                \n",
    "print('\\nd = ',d)\n",
    "print('\\nf1 = ', f1)"
   ]
  },
  {
   "cell_type": "code",
   "execution_count": null,
   "metadata": {},
   "outputs": [],
   "source": []
  }
 ],
 "metadata": {
  "kernelspec": {
   "display_name": "Python 3",
   "language": "python",
   "name": "python3"
  },
  "language_info": {
   "codemirror_mode": {
    "name": "ipython",
    "version": 3
   },
   "file_extension": ".py",
   "mimetype": "text/x-python",
   "name": "python",
   "nbconvert_exporter": "python",
   "pygments_lexer": "ipython3",
   "version": "3.8.3"
  }
 },
 "nbformat": 4,
 "nbformat_minor": 4
}
